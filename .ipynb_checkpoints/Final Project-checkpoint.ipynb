{
 "cells": [
  {
   "cell_type": "markdown",
   "metadata": {
    "toc": true
   },
   "source": [
    "<h1>Table of Contents<span class=\"tocSkip\"></span></h1>\n",
    "<div class=\"toc\"><ul class=\"toc-item\"><li><span><a href=\"#Data-Overview\" data-toc-modified-id=\"Data-Overview-1\"><span class=\"toc-item-num\">1&nbsp;&nbsp;</span>Data Overview</a></span></li><li><span><a href=\"#Only-Data-from-the-first-3-days\" data-toc-modified-id=\"Only-Data-from-the-first-3-days-2\"><span class=\"toc-item-num\">2&nbsp;&nbsp;</span>Only Data from the first 3 days</a></span><ul class=\"toc-item\"><li><span><a href=\"#Data-Cleaning\" data-toc-modified-id=\"Data-Cleaning-2.1\"><span class=\"toc-item-num\">2.1&nbsp;&nbsp;</span>Data Cleaning</a></span></li></ul></li><li><span><a href=\"#Machine-Learning\" data-toc-modified-id=\"Machine-Learning-3\"><span class=\"toc-item-num\">3&nbsp;&nbsp;</span>Machine Learning</a></span><ul class=\"toc-item\"><li><span><a href=\"#Random-Forest-Classifier\" data-toc-modified-id=\"Random-Forest-Classifier-3.1\"><span class=\"toc-item-num\">3.1&nbsp;&nbsp;</span>Random Forest Classifier</a></span><ul class=\"toc-item\"><li><span><a href=\"#Generating-the-Model-on-Selected-Features\" data-toc-modified-id=\"Generating-the-Model-on-Selected-Features-3.1.1\"><span class=\"toc-item-num\">3.1.1&nbsp;&nbsp;</span>Generating the Model on Selected Features</a></span></li></ul></li><li><span><a href=\"#XGBoost---Extreme-Gradient-Boosting\" data-toc-modified-id=\"XGBoost---Extreme-Gradient-Boosting-3.2\"><span class=\"toc-item-num\">3.2&nbsp;&nbsp;</span>XGBoost - Extreme Gradient Boosting</a></span><ul class=\"toc-item\"><li><span><a href=\"#Grid-Search-Cross-Validation\" data-toc-modified-id=\"Grid-Search-Cross-Validation-3.2.1\"><span class=\"toc-item-num\">3.2.1&nbsp;&nbsp;</span>Grid Search Cross-Validation</a></span><ul class=\"toc-item\"><li><span><a href=\"#Evaluation\" data-toc-modified-id=\"Evaluation-3.2.1.1\"><span class=\"toc-item-num\">3.2.1.1&nbsp;&nbsp;</span>Evaluation</a></span></li></ul></li></ul></li></ul></li></ul></div>"
   ]
  },
  {
   "cell_type": "code",
   "execution_count": 28,
   "metadata": {},
   "outputs": [],
   "source": [
    "import pandas as pd\n",
    "import numpy as np\n",
    "import seaborn as sns\n",
    "import matplotlib.pyplot as plt\n"
   ]
  },
  {
   "cell_type": "code",
   "execution_count": 29,
   "metadata": {},
   "outputs": [],
   "source": [
    "data = pd.read_excel(\"Data_demo.xlsx\")"
   ]
  },
  {
   "cell_type": "markdown",
   "metadata": {},
   "source": [
    "# Data Overview\n",
    "\n",
    "age\t- Patient age\n",
    "\n",
    "age_cat - Patient age category  ['70-79', '50-59', '60-69', '30-49', '80+', '18-29']\n",
    "\n",
    "gender  - M/F\n",
    "\n",
    "weight\t- Patient weight\n",
    "\n",
    "height\t- Patient height\n",
    "\n",
    "BMI\tBMI_cat\t- ['18.5-24.9', '30+', '25-29.9', 'Below 18.5']\n",
    "\n",
    "SCORE_1_0\t- A score assessing the sevirity of the patients condition given by the hospital\n",
    "\n",
    "SCORE2_0\t- A score assessing the sevirity of the patients condition given by the hospital\n",
    "\n",
    "DRUG_1_0\t- One of two types of drugs given to treat te side effect of feeding intolerance - three days of data\n",
    "\n",
    "DRUG_2_0\t- One of two types of drugs given to treat te side effect of feeding intolerance - three days of data\n",
    "\n",
    "Number_of_GIS_in_Day\t- a sum of the gastrological symptoms per day\n",
    "\n",
    "active_problem_cat - ['S', 'M', 'TN', 'TA'] S- Surgery, M- Medical oncology, TN- Transplant, TA- Trauma\n",
    "\n",
    "ICU_LOS\t    - ICU length of stay\n",
    "\n",
    "LOS_Group\t- ['LOS_8-13', 'LOS_5-7', 'LOS_3-4', 'LOS_14_and_more']\n",
    "\n",
    "mortality\t- 1 - deceased, 0 - alive\n",
    "\n",
    "feeding_new - ['EN', 'EN+SPN'] EN- Enteral Nutrition, EN+SPN- Enteral Nutrition + Supplemental Parenteral Nutrition\n",
    "\n",
    "first 14 days of data:\n",
    "\n",
    "Diarrhea_Day_0 -\n",
    "\n",
    "GIbleeding_Day_0 - general bleeding"
   ]
  },
  {
   "cell_type": "code",
   "execution_count": 30,
   "metadata": {},
   "outputs": [
    {
     "data": {
      "text/html": [
       "<div>\n",
       "<style scoped>\n",
       "    .dataframe tbody tr th:only-of-type {\n",
       "        vertical-align: middle;\n",
       "    }\n",
       "\n",
       "    .dataframe tbody tr th {\n",
       "        vertical-align: top;\n",
       "    }\n",
       "\n",
       "    .dataframe thead th {\n",
       "        text-align: right;\n",
       "    }\n",
       "</style>\n",
       "<table border=\"1\" class=\"dataframe\">\n",
       "  <thead>\n",
       "    <tr style=\"text-align: right;\">\n",
       "      <th></th>\n",
       "      <th>ser_num</th>\n",
       "      <th>age</th>\n",
       "      <th>age_cat</th>\n",
       "      <th>gender</th>\n",
       "      <th>weight</th>\n",
       "      <th>height</th>\n",
       "      <th>BMI</th>\n",
       "      <th>BMI_cat</th>\n",
       "      <th>SCORE_1_0</th>\n",
       "      <th>SCORE2_0</th>\n",
       "      <th>...</th>\n",
       "      <th>DRUG_1_0</th>\n",
       "      <th>DRUG_1_1</th>\n",
       "      <th>DRUG_1_2</th>\n",
       "      <th>DRUG_2_0</th>\n",
       "      <th>DRUG_2_1</th>\n",
       "      <th>DRUG_2_2</th>\n",
       "      <th>ICU_LOS</th>\n",
       "      <th>LOS_Group</th>\n",
       "      <th>mortality</th>\n",
       "      <th>feeding_new</th>\n",
       "    </tr>\n",
       "  </thead>\n",
       "  <tbody>\n",
       "    <tr>\n",
       "      <th>0</th>\n",
       "      <td>2</td>\n",
       "      <td>72</td>\n",
       "      <td>70-79</td>\n",
       "      <td>F</td>\n",
       "      <td>65.0</td>\n",
       "      <td>1.65</td>\n",
       "      <td>23.875115</td>\n",
       "      <td>18.5-24.9</td>\n",
       "      <td>16</td>\n",
       "      <td>0.0</td>\n",
       "      <td>...</td>\n",
       "      <td>0.0</td>\n",
       "      <td>0.0</td>\n",
       "      <td>1.0</td>\n",
       "      <td>0.0</td>\n",
       "      <td>0.0</td>\n",
       "      <td>0.0</td>\n",
       "      <td>9</td>\n",
       "      <td>LOS_8-13</td>\n",
       "      <td>0</td>\n",
       "      <td>EN</td>\n",
       "    </tr>\n",
       "    <tr>\n",
       "      <th>1</th>\n",
       "      <td>3</td>\n",
       "      <td>58</td>\n",
       "      <td>50-59</td>\n",
       "      <td>M</td>\n",
       "      <td>101.0</td>\n",
       "      <td>1.75</td>\n",
       "      <td>32.979592</td>\n",
       "      <td>30+</td>\n",
       "      <td>23</td>\n",
       "      <td>9.0</td>\n",
       "      <td>...</td>\n",
       "      <td>0.0</td>\n",
       "      <td>0.0</td>\n",
       "      <td>0.0</td>\n",
       "      <td>0.0</td>\n",
       "      <td>0.0</td>\n",
       "      <td>0.0</td>\n",
       "      <td>5</td>\n",
       "      <td>LOS_5-7</td>\n",
       "      <td>0</td>\n",
       "      <td>EN</td>\n",
       "    </tr>\n",
       "    <tr>\n",
       "      <th>2</th>\n",
       "      <td>4</td>\n",
       "      <td>62</td>\n",
       "      <td>60-69</td>\n",
       "      <td>M</td>\n",
       "      <td>85.0</td>\n",
       "      <td>1.65</td>\n",
       "      <td>31.221304</td>\n",
       "      <td>30+</td>\n",
       "      <td>0</td>\n",
       "      <td>0.0</td>\n",
       "      <td>...</td>\n",
       "      <td>1.0</td>\n",
       "      <td>1.0</td>\n",
       "      <td>1.0</td>\n",
       "      <td>0.0</td>\n",
       "      <td>0.0</td>\n",
       "      <td>1.0</td>\n",
       "      <td>3</td>\n",
       "      <td>LOS_3-4</td>\n",
       "      <td>0</td>\n",
       "      <td>EN</td>\n",
       "    </tr>\n",
       "  </tbody>\n",
       "</table>\n",
       "<p>3 rows × 132 columns</p>\n",
       "</div>"
      ],
      "text/plain": [
       "   ser_num  age age_cat gender  weight  height        BMI    BMI_cat  \\\n",
       "0        2   72   70-79      F    65.0    1.65  23.875115  18.5-24.9   \n",
       "1        3   58   50-59  M       101.0    1.75  32.979592        30+   \n",
       "2        4   62   60-69  M        85.0    1.65  31.221304        30+   \n",
       "\n",
       "   SCORE_1_0  SCORE2_0  ...  DRUG_1_0  DRUG_1_1 DRUG_1_2  DRUG_2_0  DRUG_2_1  \\\n",
       "0         16       0.0  ...       0.0       0.0      1.0       0.0       0.0   \n",
       "1         23       9.0  ...       0.0       0.0      0.0       0.0       0.0   \n",
       "2          0       0.0  ...       1.0       1.0      1.0       0.0       0.0   \n",
       "\n",
       "   DRUG_2_2  ICU_LOS  LOS_Group  mortality  feeding_new  \n",
       "0       0.0        9   LOS_8-13          0           EN  \n",
       "1       0.0        5    LOS_5-7          0           EN  \n",
       "2       1.0        3    LOS_3-4          0           EN  \n",
       "\n",
       "[3 rows x 132 columns]"
      ]
     },
     "execution_count": 30,
     "metadata": {},
     "output_type": "execute_result"
    }
   ],
   "source": [
    "data.head(3)"
   ]
  },
  {
   "cell_type": "code",
   "execution_count": 31,
   "metadata": {},
   "outputs": [
    {
     "data": {
      "text/plain": [
       "['ser_num',\n",
       " 'age',\n",
       " 'age_cat',\n",
       " 'gender',\n",
       " 'weight',\n",
       " 'height',\n",
       " 'BMI',\n",
       " 'BMI_cat',\n",
       " 'SCORE_1_0',\n",
       " 'SCORE2_0',\n",
       " 'SCORE2_2',\n",
       " 'Delta_SCORE2',\n",
       " 'active_problem_cat',\n",
       " 'trauma',\n",
       " 'oncologic (cancer)',\n",
       " 'cardio',\n",
       " 'pulmonary',\n",
       " 'kidney',\n",
       " 'metabolic',\n",
       " 'gastrointestinal',\n",
       " 'neurologic',\n",
       " 'hematologic',\n",
       " 'vascular',\n",
       " 'Sepsis',\n",
       " 'Diarrhea_Day_0',\n",
       " 'Diarrhea_Day_1',\n",
       " 'Diarrhea_Day_2',\n",
       " 'Diarrhea_Day_3',\n",
       " 'Diarrhea_Day_4',\n",
       " 'Diarrhea_Day_5',\n",
       " 'Diarrhea_Day_6',\n",
       " 'Diarrhea_Day_7',\n",
       " 'Diarrhea_Day_8',\n",
       " 'Diarrhea_Day_9',\n",
       " 'Diarrhea_Day_10',\n",
       " 'Diarrhea_Day_11',\n",
       " 'Diarrhea_Day_12',\n",
       " 'Diarrhea_Day_13',\n",
       " 'GIbleeding_Day_0',\n",
       " 'GIbleeding_Day_1',\n",
       " 'GIbleeding_Day_2',\n",
       " 'GIbleeding_Day_3',\n",
       " 'GIbleeding_Day_4',\n",
       " 'GIbleeding_Day_5',\n",
       " 'GIbleeding_Day_6',\n",
       " 'GIbleeding_Day_7',\n",
       " 'GIbleeding_Day_8',\n",
       " 'GIbleeding_Day_9',\n",
       " 'GIbleeding_Day_10',\n",
       " 'GIbleeding_Day_11',\n",
       " 'GIbleeding_Day_12',\n",
       " 'GIbleeding_Day_13',\n",
       " 'Vommiting_Day_0',\n",
       " 'Vommiting_Day_1',\n",
       " 'Vommiting_Day_2',\n",
       " 'Vommiting_Day_3',\n",
       " 'Vommiting_Day_4',\n",
       " 'Vommiting_Day_5',\n",
       " 'Vommiting_Day_6',\n",
       " 'Vommiting_Day_7',\n",
       " 'Vommiting_Day_8',\n",
       " 'Vommiting_Day_9',\n",
       " 'Vommiting_Day_10',\n",
       " 'Vommiting_Day_11',\n",
       " 'Vommiting_Day_12',\n",
       " 'Vommiting_Day_13',\n",
       " 'Number_of_GIS_in_Day_0',\n",
       " 'Number_of_GIS_in_Day_1',\n",
       " 'Number_of_GIS_in_Day_2',\n",
       " 'Number_of_GIS_in_Day_3',\n",
       " 'Number_of_GIS_in_Day_4',\n",
       " 'Number_of_GIS_in_Day_5',\n",
       " 'Number_of_GIS_in_Day_6',\n",
       " 'Number_of_GIS_in_Day_7',\n",
       " 'Number_of_GIS_in_Day_8',\n",
       " 'Number_of_GIS_in_Day_9',\n",
       " 'Number_of_GIS_in_Day_10',\n",
       " 'Number_of_GIS_in_Day_11',\n",
       " 'Number_of_GIS_in_Day_12',\n",
       " 'Number_of_GIS_in_Day_13',\n",
       " 'Number_of_GIS_in_Day_0_cat',\n",
       " 'Number_of_GIS_in_Day_1_cat',\n",
       " 'Number_of_GIS_in_Day_2_cat',\n",
       " 'Number_of_GIS_in_Day_3_cat',\n",
       " 'Number_of_GIS_in_Day_4_cat',\n",
       " 'Number_of_GIS_in_Day_5_cat',\n",
       " 'Number_of_GIS_in_Day_6_cat',\n",
       " 'Number_of_GIS_in_Day_7_cat',\n",
       " 'Number_of_GIS_in_Day_8_cat',\n",
       " 'Number_of_GIS_in_Day_9_cat',\n",
       " 'Number_of_GIS_in_Day_10_cat',\n",
       " 'Number_of_GIS_in_Day_11_cat',\n",
       " 'Number_of_GIS_in_Day_12_cat',\n",
       " 'Number_of_GIS_in_Day_13_cat',\n",
       " 'GRV_250_Day_0',\n",
       " 'GRV_250_Day_1',\n",
       " 'GRV_250_Day_2',\n",
       " 'GRV_250_Day_3',\n",
       " 'GRV_250_Day_4',\n",
       " 'GRV_250_Day_5',\n",
       " 'GRV_250_Day_6',\n",
       " 'GRV_250_Day_7',\n",
       " 'GRV_250_Day_8',\n",
       " 'GRV_250_Day_9',\n",
       " 'GRV_250_Day_10',\n",
       " 'GRV_250_Day_11',\n",
       " 'GRV_250_Day_12',\n",
       " 'GRV_250_Day_13',\n",
       " 'LT_70%ENcal_day0',\n",
       " 'LT_70%ENcal_day1',\n",
       " 'LT_70%ENcal_day2',\n",
       " 'LT_70%ENcal_day3',\n",
       " 'LT_70%ENcal_day4',\n",
       " 'MT_70%ENcal_day5',\n",
       " 'LT_70%ENcal_day6',\n",
       " 'LT_70%ENcal_day7',\n",
       " 'LT_70%ENcal_day8',\n",
       " 'LT_70%ENcal_day9',\n",
       " 'LT_70%ENcal_day10',\n",
       " 'LT_70%ENcal_day11',\n",
       " 'LT_70%ENcal_day12',\n",
       " 'LT_70%ENcal_day13',\n",
       " 'DRUG_1_0',\n",
       " 'DRUG_1_1',\n",
       " 'DRUG_1_2',\n",
       " 'DRUG_2_0',\n",
       " 'DRUG_2_1',\n",
       " 'DRUG_2_2',\n",
       " 'ICU_LOS',\n",
       " 'LOS_Group',\n",
       " 'mortality',\n",
       " 'feeding_new']"
      ]
     },
     "execution_count": 31,
     "metadata": {},
     "output_type": "execute_result"
    }
   ],
   "source": [
    "full_feature_list = list(data.columns)\n",
    "full_feature_list"
   ]
  },
  {
   "cell_type": "code",
   "execution_count": 32,
   "metadata": {},
   "outputs": [],
   "source": [
    "## Unique Categories ## \n",
    "#data['age_cat'].unique()\n",
    "#data['BMI_cat'].unique()\n",
    "#data['LOS_Group'].unique()\n",
    "#data['active_problem_cat'].unique()\n",
    "#data['feeding_new'].unique()"
   ]
  },
  {
   "cell_type": "code",
   "execution_count": 33,
   "metadata": {},
   "outputs": [
    {
     "data": {
      "text/html": [
       "<div>\n",
       "<style scoped>\n",
       "    .dataframe tbody tr th:only-of-type {\n",
       "        vertical-align: middle;\n",
       "    }\n",
       "\n",
       "    .dataframe tbody tr th {\n",
       "        vertical-align: top;\n",
       "    }\n",
       "\n",
       "    .dataframe thead th {\n",
       "        text-align: right;\n",
       "    }\n",
       "</style>\n",
       "<table border=\"1\" class=\"dataframe\">\n",
       "  <thead>\n",
       "    <tr style=\"text-align: right;\">\n",
       "      <th></th>\n",
       "      <th>age</th>\n",
       "      <th>weight</th>\n",
       "      <th>height</th>\n",
       "      <th>BMI</th>\n",
       "      <th>SCORE_1_0</th>\n",
       "      <th>SCORE2_0</th>\n",
       "      <th>SCORE2_2</th>\n",
       "      <th>Delta_SCORE2</th>\n",
       "      <th>trauma</th>\n",
       "      <th>oncologic (cancer)</th>\n",
       "      <th>...</th>\n",
       "      <th>LT_70%ENcal_day12</th>\n",
       "      <th>LT_70%ENcal_day13</th>\n",
       "      <th>DRUG_1_0</th>\n",
       "      <th>DRUG_1_1</th>\n",
       "      <th>DRUG_1_2</th>\n",
       "      <th>DRUG_2_0</th>\n",
       "      <th>DRUG_2_1</th>\n",
       "      <th>DRUG_2_2</th>\n",
       "      <th>ICU_LOS</th>\n",
       "      <th>mortality</th>\n",
       "    </tr>\n",
       "  </thead>\n",
       "  <tbody>\n",
       "    <tr>\n",
       "      <th>count</th>\n",
       "      <td>399.000000</td>\n",
       "      <td>399.000000</td>\n",
       "      <td>399.000000</td>\n",
       "      <td>399.000000</td>\n",
       "      <td>399.000000</td>\n",
       "      <td>362.000000</td>\n",
       "      <td>362.000000</td>\n",
       "      <td>362.000000</td>\n",
       "      <td>399.000000</td>\n",
       "      <td>399.000000</td>\n",
       "      <td>...</td>\n",
       "      <td>398.00000</td>\n",
       "      <td>398.000000</td>\n",
       "      <td>384.00000</td>\n",
       "      <td>384.000000</td>\n",
       "      <td>384.000000</td>\n",
       "      <td>384.000000</td>\n",
       "      <td>384.000000</td>\n",
       "      <td>384.000000</td>\n",
       "      <td>399.000000</td>\n",
       "      <td>399.000000</td>\n",
       "    </tr>\n",
       "    <tr>\n",
       "      <th>mean</th>\n",
       "      <td>58.368421</td>\n",
       "      <td>78.426817</td>\n",
       "      <td>1.693910</td>\n",
       "      <td>27.351338</td>\n",
       "      <td>15.413534</td>\n",
       "      <td>5.546961</td>\n",
       "      <td>3.251381</td>\n",
       "      <td>-2.295580</td>\n",
       "      <td>0.197995</td>\n",
       "      <td>0.273183</td>\n",
       "      <td>...</td>\n",
       "      <td>0.81407</td>\n",
       "      <td>0.829146</td>\n",
       "      <td>0.12500</td>\n",
       "      <td>0.213542</td>\n",
       "      <td>0.252604</td>\n",
       "      <td>0.007812</td>\n",
       "      <td>0.010417</td>\n",
       "      <td>0.026042</td>\n",
       "      <td>13.320802</td>\n",
       "      <td>0.218045</td>\n",
       "    </tr>\n",
       "    <tr>\n",
       "      <th>std</th>\n",
       "      <td>17.293276</td>\n",
       "      <td>19.458602</td>\n",
       "      <td>0.098448</td>\n",
       "      <td>6.718616</td>\n",
       "      <td>13.099615</td>\n",
       "      <td>4.385099</td>\n",
       "      <td>4.368778</td>\n",
       "      <td>5.221247</td>\n",
       "      <td>0.398989</td>\n",
       "      <td>0.446153</td>\n",
       "      <td>...</td>\n",
       "      <td>0.38954</td>\n",
       "      <td>0.376855</td>\n",
       "      <td>0.33115</td>\n",
       "      <td>0.410341</td>\n",
       "      <td>0.435073</td>\n",
       "      <td>0.088157</td>\n",
       "      <td>0.101662</td>\n",
       "      <td>0.159467</td>\n",
       "      <td>12.786902</td>\n",
       "      <td>0.413437</td>\n",
       "    </tr>\n",
       "    <tr>\n",
       "      <th>min</th>\n",
       "      <td>18.000000</td>\n",
       "      <td>32.000000</td>\n",
       "      <td>1.174000</td>\n",
       "      <td>8.159722</td>\n",
       "      <td>0.000000</td>\n",
       "      <td>0.000000</td>\n",
       "      <td>0.000000</td>\n",
       "      <td>-19.000000</td>\n",
       "      <td>0.000000</td>\n",
       "      <td>0.000000</td>\n",
       "      <td>...</td>\n",
       "      <td>0.00000</td>\n",
       "      <td>0.000000</td>\n",
       "      <td>0.00000</td>\n",
       "      <td>0.000000</td>\n",
       "      <td>0.000000</td>\n",
       "      <td>0.000000</td>\n",
       "      <td>0.000000</td>\n",
       "      <td>0.000000</td>\n",
       "      <td>3.000000</td>\n",
       "      <td>0.000000</td>\n",
       "    </tr>\n",
       "    <tr>\n",
       "      <th>25%</th>\n",
       "      <td>50.000000</td>\n",
       "      <td>68.000000</td>\n",
       "      <td>1.650000</td>\n",
       "      <td>23.437500</td>\n",
       "      <td>0.000000</td>\n",
       "      <td>0.000000</td>\n",
       "      <td>0.000000</td>\n",
       "      <td>-6.000000</td>\n",
       "      <td>0.000000</td>\n",
       "      <td>0.000000</td>\n",
       "      <td>...</td>\n",
       "      <td>1.00000</td>\n",
       "      <td>1.000000</td>\n",
       "      <td>0.00000</td>\n",
       "      <td>0.000000</td>\n",
       "      <td>0.000000</td>\n",
       "      <td>0.000000</td>\n",
       "      <td>0.000000</td>\n",
       "      <td>0.000000</td>\n",
       "      <td>5.000000</td>\n",
       "      <td>0.000000</td>\n",
       "    </tr>\n",
       "    <tr>\n",
       "      <th>50%</th>\n",
       "      <td>61.000000</td>\n",
       "      <td>75.000000</td>\n",
       "      <td>1.700000</td>\n",
       "      <td>26.122449</td>\n",
       "      <td>18.000000</td>\n",
       "      <td>6.000000</td>\n",
       "      <td>0.000000</td>\n",
       "      <td>-2.000000</td>\n",
       "      <td>0.000000</td>\n",
       "      <td>0.000000</td>\n",
       "      <td>...</td>\n",
       "      <td>1.00000</td>\n",
       "      <td>1.000000</td>\n",
       "      <td>0.00000</td>\n",
       "      <td>0.000000</td>\n",
       "      <td>0.000000</td>\n",
       "      <td>0.000000</td>\n",
       "      <td>0.000000</td>\n",
       "      <td>0.000000</td>\n",
       "      <td>9.000000</td>\n",
       "      <td>0.000000</td>\n",
       "    </tr>\n",
       "    <tr>\n",
       "      <th>75%</th>\n",
       "      <td>72.000000</td>\n",
       "      <td>88.000000</td>\n",
       "      <td>1.750000</td>\n",
       "      <td>29.759224</td>\n",
       "      <td>25.000000</td>\n",
       "      <td>9.000000</td>\n",
       "      <td>6.750000</td>\n",
       "      <td>0.000000</td>\n",
       "      <td>0.000000</td>\n",
       "      <td>1.000000</td>\n",
       "      <td>...</td>\n",
       "      <td>1.00000</td>\n",
       "      <td>1.000000</td>\n",
       "      <td>0.00000</td>\n",
       "      <td>0.000000</td>\n",
       "      <td>1.000000</td>\n",
       "      <td>0.000000</td>\n",
       "      <td>0.000000</td>\n",
       "      <td>0.000000</td>\n",
       "      <td>19.000000</td>\n",
       "      <td>0.000000</td>\n",
       "    </tr>\n",
       "    <tr>\n",
       "      <th>max</th>\n",
       "      <td>98.000000</td>\n",
       "      <td>150.000000</td>\n",
       "      <td>2.400000</td>\n",
       "      <td>61.671247</td>\n",
       "      <td>115.000000</td>\n",
       "      <td>19.000000</td>\n",
       "      <td>20.000000</td>\n",
       "      <td>20.000000</td>\n",
       "      <td>1.000000</td>\n",
       "      <td>1.000000</td>\n",
       "      <td>...</td>\n",
       "      <td>1.00000</td>\n",
       "      <td>1.000000</td>\n",
       "      <td>1.00000</td>\n",
       "      <td>1.000000</td>\n",
       "      <td>1.000000</td>\n",
       "      <td>1.000000</td>\n",
       "      <td>1.000000</td>\n",
       "      <td>1.000000</td>\n",
       "      <td>110.000000</td>\n",
       "      <td>1.000000</td>\n",
       "    </tr>\n",
       "  </tbody>\n",
       "</table>\n",
       "<p>8 rows × 111 columns</p>\n",
       "</div>"
      ],
      "text/plain": [
       "              age      weight      height         BMI   SCORE_1_0    SCORE2_0  \\\n",
       "count  399.000000  399.000000  399.000000  399.000000  399.000000  362.000000   \n",
       "mean    58.368421   78.426817    1.693910   27.351338   15.413534    5.546961   \n",
       "std     17.293276   19.458602    0.098448    6.718616   13.099615    4.385099   \n",
       "min     18.000000   32.000000    1.174000    8.159722    0.000000    0.000000   \n",
       "25%     50.000000   68.000000    1.650000   23.437500    0.000000    0.000000   \n",
       "50%     61.000000   75.000000    1.700000   26.122449   18.000000    6.000000   \n",
       "75%     72.000000   88.000000    1.750000   29.759224   25.000000    9.000000   \n",
       "max     98.000000  150.000000    2.400000   61.671247  115.000000   19.000000   \n",
       "\n",
       "         SCORE2_2  Delta_SCORE2      trauma  oncologic (cancer)  ...  \\\n",
       "count  362.000000    362.000000  399.000000          399.000000  ...   \n",
       "mean     3.251381     -2.295580    0.197995            0.273183  ...   \n",
       "std      4.368778      5.221247    0.398989            0.446153  ...   \n",
       "min      0.000000    -19.000000    0.000000            0.000000  ...   \n",
       "25%      0.000000     -6.000000    0.000000            0.000000  ...   \n",
       "50%      0.000000     -2.000000    0.000000            0.000000  ...   \n",
       "75%      6.750000      0.000000    0.000000            1.000000  ...   \n",
       "max     20.000000     20.000000    1.000000            1.000000  ...   \n",
       "\n",
       "       LT_70%ENcal_day12  LT_70%ENcal_day13   DRUG_1_0    DRUG_1_1  \\\n",
       "count          398.00000         398.000000  384.00000  384.000000   \n",
       "mean             0.81407           0.829146    0.12500    0.213542   \n",
       "std              0.38954           0.376855    0.33115    0.410341   \n",
       "min              0.00000           0.000000    0.00000    0.000000   \n",
       "25%              1.00000           1.000000    0.00000    0.000000   \n",
       "50%              1.00000           1.000000    0.00000    0.000000   \n",
       "75%              1.00000           1.000000    0.00000    0.000000   \n",
       "max              1.00000           1.000000    1.00000    1.000000   \n",
       "\n",
       "         DRUG_1_2    DRUG_2_0    DRUG_2_1    DRUG_2_2     ICU_LOS   mortality  \n",
       "count  384.000000  384.000000  384.000000  384.000000  399.000000  399.000000  \n",
       "mean     0.252604    0.007812    0.010417    0.026042   13.320802    0.218045  \n",
       "std      0.435073    0.088157    0.101662    0.159467   12.786902    0.413437  \n",
       "min      0.000000    0.000000    0.000000    0.000000    3.000000    0.000000  \n",
       "25%      0.000000    0.000000    0.000000    0.000000    5.000000    0.000000  \n",
       "50%      0.000000    0.000000    0.000000    0.000000    9.000000    0.000000  \n",
       "75%      1.000000    0.000000    0.000000    0.000000   19.000000    0.000000  \n",
       "max      1.000000    1.000000    1.000000    1.000000  110.000000    1.000000  \n",
       "\n",
       "[8 rows x 111 columns]"
      ]
     },
     "execution_count": 33,
     "metadata": {},
     "output_type": "execute_result"
    }
   ],
   "source": [
    "data = data.drop(['ser_num'], axis = 1)\n",
    "data.describe()"
   ]
  },
  {
   "cell_type": "code",
   "execution_count": 34,
   "metadata": {},
   "outputs": [],
   "source": [
    "mortality_0 = data[data[\"mortality\"] == 0]\n",
    "mortality_1 = data[data[\"mortality\"] == 1]\n"
   ]
  },
  {
   "cell_type": "code",
   "execution_count": 35,
   "metadata": {},
   "outputs": [
    {
     "name": "stdout",
     "output_type": "stream",
     "text": [
      "21.804511278195488\n"
     ]
    },
    {
     "data": {
      "text/plain": [
       "399"
      ]
     },
     "execution_count": 35,
     "metadata": {},
     "output_type": "execute_result"
    }
   ],
   "source": [
    "total_mortality = data[\"mortality\"].count()\n",
    "mortality_1_count = mortality_1[\"mortality\"].count()\n",
    "mortality_0_count = mortality_0[\"mortality\"].count()\n",
    "\n",
    "mortality_1_count_percentage = (mortality_1_count)/total_mortality*100\n",
    "mortality_0_count_percentage = (mortality_0_count)/total_mortality*100\n",
    "\n",
    "print((mortality_1_count)/total_mortality*100)\n",
    "mortality_1_count\n",
    "total_mortality"
   ]
  },
  {
   "cell_type": "code",
   "execution_count": 36,
   "metadata": {},
   "outputs": [
    {
     "data": {
      "image/png": "[encoded data removed]",
      "text/plain": [
       "<Figure size 432x288 with 1 Axes>"
      ]
     },
     "metadata": {},
     "output_type": "display_data"
    }
   ],
   "source": [
    "# General mortality in the data\n",
    "y = np.array([mortality_1_count, mortality_0_count])\n",
    "labels = [\"Mortality 1\", \"Mortality 0\"]\n",
    "sizes = [mortality_1_count_percentage,mortality_0_count_percentage]\n",
    "myexplode = [0.25, 0]\n",
    "\n",
    "plt.pie(y, labels = labels, explode = myexplode)\n",
    "labels = [f'{l}, {s:0.1f}%' for l, s in zip(labels, sizes)]\n",
    "plt.legend(bbox_to_anchor=(0.95, 1.1), loc='upper left', labels=labels)\n",
    "plt.title(\"General mortality in data\")\n",
    "\n",
    "plt.show() "
   ]
  },
  {
   "cell_type": "code",
   "execution_count": 37,
   "metadata": {},
   "outputs": [],
   "source": [
    "# Show mortality based on age group"
   ]
  },
  {
   "cell_type": "code",
   "execution_count": 38,
   "metadata": {},
   "outputs": [
    {
     "data": {
      "image/png": "[encoded data removed]",
      "text/plain": [
       "<Figure size 864x648 with 2 Axes>"
      ]
     },
     "metadata": {
      "needs_background": "light"
     },
     "output_type": "display_data"
    }
   ],
   "source": [
    "# Method of correlation:\n",
    "# pearson : standard correlation coefficient\n",
    "corrmat = data.corr()\n",
    "f, ax = plt.subplots(figsize=(12, 9))\n",
    "sns.heatmap(corrmat, vmax=.8, square=True);\n",
    "plt.show()"
   ]
  },
  {
   "cell_type": "markdown",
   "metadata": {},
   "source": [
    "# Only Data from the first 3 days"
   ]
  },
  {
   "cell_type": "markdown",
   "metadata": {},
   "source": [
    "## Data Cleaning"
   ]
  },
  {
   "cell_type": "code",
   "execution_count": 39,
   "metadata": {},
   "outputs": [],
   "source": [
    "# Summing the occurence of symptoms for the first three days in the ICU\n",
    "data['first_day_symptoms'] = data['Diarrhea_Day_0'] + data['GIbleeding_Day_0'] + data['Vommiting_Day_0']\n",
    "data['second_day_symptoms'] = data['Diarrhea_Day_1'] + data['GIbleeding_Day_1'] + data['Vommiting_Day_1']\n",
    "data['third_day_symptoms'] = data['Diarrhea_Day_2'] + data['GIbleeding_Day_2'] + data['Vommiting_Day_2']\n",
    "data['summed_symptoms'] = data['first_day_symptoms'] + data['second_day_symptoms'] + data['third_day_symptoms']\n",
    "#data['summedSymptoms']"
   ]
  },
  {
   "cell_type": "code",
   "execution_count": 40,
   "metadata": {},
   "outputs": [],
   "source": [
    "# Remove all columns between the column names\n",
    "three_days_data = data.drop(data.loc[:, 'Diarrhea_Day_3':'Diarrhea_Day_13'].columns, axis = 1)\n",
    "three_days_data = three_days_data.drop(three_days_data.loc[:, 'GIbleeding_Day_3':'GIbleeding_Day_13'].columns, axis = 1)\n",
    "three_days_data = three_days_data.drop(three_days_data.loc[:, 'Vommiting_Day_3':'Number_of_GIS_in_Day_13_cat'].columns, axis = 1)\n",
    "three_days_data = three_days_data.drop(three_days_data.loc[:, 'GRV_250_Day_3':'GRV_250_Day_13'].columns, axis = 1)\n",
    "three_days_data = three_days_data.drop(three_days_data.loc[:, 'LT_70%ENcal_day3':'LT_70%ENcal_day13'].columns, axis = 1)\n",
    "#three_days_data"
   ]
  },
  {
   "cell_type": "code",
   "execution_count": 41,
   "metadata": {},
   "outputs": [
    {
     "data": {
      "text/plain": [
       "['age',\n",
       " 'age_cat',\n",
       " 'gender',\n",
       " 'weight',\n",
       " 'height',\n",
       " 'BMI',\n",
       " 'BMI_cat',\n",
       " 'SCORE_1_0',\n",
       " 'SCORE2_0',\n",
       " 'SCORE2_2',\n",
       " 'Delta_SCORE2',\n",
       " 'active_problem_cat',\n",
       " 'trauma',\n",
       " 'oncologic (cancer)',\n",
       " 'cardio',\n",
       " 'pulmonary',\n",
       " 'kidney',\n",
       " 'metabolic',\n",
       " 'gastrointestinal',\n",
       " 'neurologic',\n",
       " 'hematologic',\n",
       " 'vascular',\n",
       " 'Sepsis',\n",
       " 'Diarrhea_Day_0',\n",
       " 'Diarrhea_Day_1',\n",
       " 'Diarrhea_Day_2',\n",
       " 'GIbleeding_Day_0',\n",
       " 'GIbleeding_Day_1',\n",
       " 'GIbleeding_Day_2',\n",
       " 'Vommiting_Day_0',\n",
       " 'Vommiting_Day_1',\n",
       " 'Vommiting_Day_2',\n",
       " 'GRV_250_Day_0',\n",
       " 'GRV_250_Day_1',\n",
       " 'GRV_250_Day_2',\n",
       " 'LT_70%ENcal_day0',\n",
       " 'LT_70%ENcal_day1',\n",
       " 'LT_70%ENcal_day2',\n",
       " 'DRUG_1_0',\n",
       " 'DRUG_1_1',\n",
       " 'DRUG_1_2',\n",
       " 'DRUG_2_0',\n",
       " 'DRUG_2_1',\n",
       " 'DRUG_2_2',\n",
       " 'ICU_LOS',\n",
       " 'LOS_Group',\n",
       " 'mortality',\n",
       " 'feeding_new',\n",
       " 'first_day_symptoms',\n",
       " 'second_day_symptoms',\n",
       " 'third_day_symptoms',\n",
       " 'summed_symptoms']"
      ]
     },
     "execution_count": 41,
     "metadata": {},
     "output_type": "execute_result"
    }
   ],
   "source": [
    "full_feature_list = list(three_days_data.columns)\n",
    "full_feature_list"
   ]
  },
  {
   "cell_type": "code",
   "execution_count": 42,
   "metadata": {},
   "outputs": [],
   "source": [
    "## LOS_Group prediction by symptoms "
   ]
  },
  {
   "cell_type": "code",
   "execution_count": 43,
   "metadata": {},
   "outputs": [
    {
     "data": {
      "text/html": [
       "<div>\n",
       "<style scoped>\n",
       "    .dataframe tbody tr th:only-of-type {\n",
       "        vertical-align: middle;\n",
       "    }\n",
       "\n",
       "    .dataframe tbody tr th {\n",
       "        vertical-align: top;\n",
       "    }\n",
       "\n",
       "    .dataframe thead th {\n",
       "        text-align: right;\n",
       "    }\n",
       "</style>\n",
       "<table border=\"1\" class=\"dataframe\">\n",
       "  <thead>\n",
       "    <tr style=\"text-align: right;\">\n",
       "      <th></th>\n",
       "      <th>age</th>\n",
       "      <th>age_cat</th>\n",
       "      <th>gender</th>\n",
       "      <th>weight</th>\n",
       "      <th>height</th>\n",
       "      <th>BMI</th>\n",
       "      <th>BMI_cat</th>\n",
       "      <th>SCORE_1_0</th>\n",
       "      <th>SCORE2_0</th>\n",
       "      <th>SCORE2_2</th>\n",
       "      <th>...</th>\n",
       "      <th>DRUG_2_1</th>\n",
       "      <th>DRUG_2_2</th>\n",
       "      <th>ICU_LOS</th>\n",
       "      <th>LOS_Group</th>\n",
       "      <th>mortality</th>\n",
       "      <th>feeding_new</th>\n",
       "      <th>first_day_symptoms</th>\n",
       "      <th>second_day_symptoms</th>\n",
       "      <th>third_day_symptoms</th>\n",
       "      <th>summed_symptoms</th>\n",
       "    </tr>\n",
       "  </thead>\n",
       "  <tbody>\n",
       "    <tr>\n",
       "      <th>0</th>\n",
       "      <td>72</td>\n",
       "      <td>70-79</td>\n",
       "      <td>F</td>\n",
       "      <td>65.0</td>\n",
       "      <td>1.65</td>\n",
       "      <td>23.875115</td>\n",
       "      <td>18.5-24.9</td>\n",
       "      <td>16</td>\n",
       "      <td>0.0</td>\n",
       "      <td>0.0</td>\n",
       "      <td>...</td>\n",
       "      <td>0.0</td>\n",
       "      <td>0.0</td>\n",
       "      <td>9</td>\n",
       "      <td>LOS_8-13</td>\n",
       "      <td>0</td>\n",
       "      <td>EN</td>\n",
       "      <td>0</td>\n",
       "      <td>0</td>\n",
       "      <td>2</td>\n",
       "      <td>2</td>\n",
       "    </tr>\n",
       "    <tr>\n",
       "      <th>1</th>\n",
       "      <td>58</td>\n",
       "      <td>50-59</td>\n",
       "      <td>M</td>\n",
       "      <td>101.0</td>\n",
       "      <td>1.75</td>\n",
       "      <td>32.979592</td>\n",
       "      <td>30+</td>\n",
       "      <td>23</td>\n",
       "      <td>9.0</td>\n",
       "      <td>7.0</td>\n",
       "      <td>...</td>\n",
       "      <td>0.0</td>\n",
       "      <td>0.0</td>\n",
       "      <td>5</td>\n",
       "      <td>LOS_5-7</td>\n",
       "      <td>0</td>\n",
       "      <td>EN</td>\n",
       "      <td>0</td>\n",
       "      <td>1</td>\n",
       "      <td>0</td>\n",
       "      <td>1</td>\n",
       "    </tr>\n",
       "    <tr>\n",
       "      <th>2</th>\n",
       "      <td>62</td>\n",
       "      <td>60-69</td>\n",
       "      <td>M</td>\n",
       "      <td>85.0</td>\n",
       "      <td>1.65</td>\n",
       "      <td>31.221304</td>\n",
       "      <td>30+</td>\n",
       "      <td>0</td>\n",
       "      <td>0.0</td>\n",
       "      <td>0.0</td>\n",
       "      <td>...</td>\n",
       "      <td>0.0</td>\n",
       "      <td>1.0</td>\n",
       "      <td>3</td>\n",
       "      <td>LOS_3-4</td>\n",
       "      <td>0</td>\n",
       "      <td>EN</td>\n",
       "      <td>0</td>\n",
       "      <td>0</td>\n",
       "      <td>0</td>\n",
       "      <td>0</td>\n",
       "    </tr>\n",
       "  </tbody>\n",
       "</table>\n",
       "<p>3 rows × 52 columns</p>\n",
       "</div>"
      ],
      "text/plain": [
       "   age age_cat gender  weight  height        BMI    BMI_cat  SCORE_1_0  \\\n",
       "0   72   70-79      F    65.0    1.65  23.875115  18.5-24.9         16   \n",
       "1   58   50-59  M       101.0    1.75  32.979592        30+         23   \n",
       "2   62   60-69  M        85.0    1.65  31.221304        30+          0   \n",
       "\n",
       "   SCORE2_0  SCORE2_2  ...  DRUG_2_1 DRUG_2_2  ICU_LOS  LOS_Group  mortality  \\\n",
       "0       0.0       0.0  ...       0.0      0.0        9   LOS_8-13          0   \n",
       "1       9.0       7.0  ...       0.0      0.0        5    LOS_5-7          0   \n",
       "2       0.0       0.0  ...       0.0      1.0        3    LOS_3-4          0   \n",
       "\n",
       "   feeding_new  first_day_symptoms  second_day_symptoms  third_day_symptoms  \\\n",
       "0           EN                   0                    0                   2   \n",
       "1           EN                   0                    1                   0   \n",
       "2           EN                   0                    0                   0   \n",
       "\n",
       "   summed_symptoms  \n",
       "0                2  \n",
       "1                1  \n",
       "2                0  \n",
       "\n",
       "[3 rows x 52 columns]"
      ]
     },
     "execution_count": 43,
     "metadata": {},
     "output_type": "execute_result"
    }
   ],
   "source": [
    "three_days_data.head(3)"
   ]
  },
  {
   "cell_type": "code",
   "execution_count": 44,
   "metadata": {},
   "outputs": [
    {
     "data": {
      "image/png": "[encoded data removed]",
      "text/plain": [
       "<Figure size 432x288 with 1 Axes>"
      ]
     },
     "metadata": {
      "needs_background": "light"
     },
     "output_type": "display_data"
    }
   ],
   "source": [
    "mortality_1_3_days = three_days_data[three_days_data[\"mortality\"] == 1]\n",
    "x = mortality_1_3_days['summed_symptoms'].unique()\n",
    "x.sort()\n",
    "y =[]\n",
    "for i in x:\n",
    "    y.append(mortality_1_3_days[mortality_1_3_days[\"summed_symptoms\"] == i]['summed_symptoms'].count())\n",
    "fig = plt.figure()\n",
    "ax = fig.add_axes([0,0,1,1])\n",
    "ax.bar(x,y)\n",
    "\n",
    "ax.set_title('Number of deaths per summed gastrological sympthom')\n",
    "ax.set_ylabel('Number of deaths')\n",
    "ax.set_xlabel('Number of gastrological symptoms in the first 3 days')\n",
    "\n",
    "for index, value in enumerate (x):\n",
    "    plt.text(value-0.1, y[index]+0.5, str(y[index]))\n",
    "    \n",
    "plt.show()"
   ]
  },
  {
   "cell_type": "code",
   "execution_count": 45,
   "metadata": {},
   "outputs": [],
   "source": [
    "#mortality_1_3_days"
   ]
  },
  {
   "cell_type": "markdown",
   "metadata": {},
   "source": [
    "# Machine Learning"
   ]
  },
  {
   "cell_type": "code",
   "execution_count": 342,
   "metadata": {},
   "outputs": [],
   "source": [
    "from sklearn.model_selection import train_test_split"
   ]
  },
  {
   "cell_type": "code",
   "execution_count": 343,
   "metadata": {},
   "outputs": [
    {
     "data": {
      "text/html": [
       "<div>\n",
       "<style scoped>\n",
       "    .dataframe tbody tr th:only-of-type {\n",
       "        vertical-align: middle;\n",
       "    }\n",
       "\n",
       "    .dataframe tbody tr th {\n",
       "        vertical-align: top;\n",
       "    }\n",
       "\n",
       "    .dataframe thead th {\n",
       "        text-align: right;\n",
       "    }\n",
       "</style>\n",
       "<table border=\"1\" class=\"dataframe\">\n",
       "  <thead>\n",
       "    <tr style=\"text-align: right;\">\n",
       "      <th></th>\n",
       "      <th>age</th>\n",
       "      <th>age_cat</th>\n",
       "      <th>gender</th>\n",
       "      <th>weight</th>\n",
       "      <th>height</th>\n",
       "      <th>BMI</th>\n",
       "      <th>BMI_cat</th>\n",
       "      <th>SCORE_1_0</th>\n",
       "      <th>SCORE2_0</th>\n",
       "      <th>SCORE2_2</th>\n",
       "      <th>...</th>\n",
       "      <th>DRUG_2_1</th>\n",
       "      <th>DRUG_2_2</th>\n",
       "      <th>ICU_LOS</th>\n",
       "      <th>LOS_Group</th>\n",
       "      <th>mortality</th>\n",
       "      <th>feeding_new</th>\n",
       "      <th>first_day_symptoms</th>\n",
       "      <th>second_day_symptoms</th>\n",
       "      <th>third_day_symptoms</th>\n",
       "      <th>summed_symptoms</th>\n",
       "    </tr>\n",
       "  </thead>\n",
       "  <tbody>\n",
       "    <tr>\n",
       "      <th>0</th>\n",
       "      <td>72</td>\n",
       "      <td>70-79</td>\n",
       "      <td>F</td>\n",
       "      <td>65.0</td>\n",
       "      <td>1.65</td>\n",
       "      <td>23.875115</td>\n",
       "      <td>18.5-24.9</td>\n",
       "      <td>16</td>\n",
       "      <td>0.0</td>\n",
       "      <td>0.0</td>\n",
       "      <td>...</td>\n",
       "      <td>0.0</td>\n",
       "      <td>0.0</td>\n",
       "      <td>9</td>\n",
       "      <td>LOS_8-13</td>\n",
       "      <td>0</td>\n",
       "      <td>EN</td>\n",
       "      <td>0</td>\n",
       "      <td>0</td>\n",
       "      <td>2</td>\n",
       "      <td>2</td>\n",
       "    </tr>\n",
       "    <tr>\n",
       "      <th>1</th>\n",
       "      <td>58</td>\n",
       "      <td>50-59</td>\n",
       "      <td>M</td>\n",
       "      <td>101.0</td>\n",
       "      <td>1.75</td>\n",
       "      <td>32.979592</td>\n",
       "      <td>30+</td>\n",
       "      <td>23</td>\n",
       "      <td>9.0</td>\n",
       "      <td>7.0</td>\n",
       "      <td>...</td>\n",
       "      <td>0.0</td>\n",
       "      <td>0.0</td>\n",
       "      <td>5</td>\n",
       "      <td>LOS_5-7</td>\n",
       "      <td>0</td>\n",
       "      <td>EN</td>\n",
       "      <td>0</td>\n",
       "      <td>1</td>\n",
       "      <td>0</td>\n",
       "      <td>1</td>\n",
       "    </tr>\n",
       "    <tr>\n",
       "      <th>2</th>\n",
       "      <td>62</td>\n",
       "      <td>60-69</td>\n",
       "      <td>M</td>\n",
       "      <td>85.0</td>\n",
       "      <td>1.65</td>\n",
       "      <td>31.221304</td>\n",
       "      <td>30+</td>\n",
       "      <td>0</td>\n",
       "      <td>0.0</td>\n",
       "      <td>0.0</td>\n",
       "      <td>...</td>\n",
       "      <td>0.0</td>\n",
       "      <td>1.0</td>\n",
       "      <td>3</td>\n",
       "      <td>LOS_3-4</td>\n",
       "      <td>0</td>\n",
       "      <td>EN</td>\n",
       "      <td>0</td>\n",
       "      <td>0</td>\n",
       "      <td>0</td>\n",
       "      <td>0</td>\n",
       "    </tr>\n",
       "  </tbody>\n",
       "</table>\n",
       "<p>3 rows × 52 columns</p>\n",
       "</div>"
      ],
      "text/plain": [
       "   age age_cat gender  weight  height        BMI    BMI_cat  SCORE_1_0  \\\n",
       "0   72   70-79      F    65.0    1.65  23.875115  18.5-24.9         16   \n",
       "1   58   50-59  M       101.0    1.75  32.979592        30+         23   \n",
       "2   62   60-69  M        85.0    1.65  31.221304        30+          0   \n",
       "\n",
       "   SCORE2_0  SCORE2_2  ...  DRUG_2_1 DRUG_2_2  ICU_LOS  LOS_Group  mortality  \\\n",
       "0       0.0       0.0  ...       0.0      0.0        9   LOS_8-13          0   \n",
       "1       9.0       7.0  ...       0.0      0.0        5    LOS_5-7          0   \n",
       "2       0.0       0.0  ...       0.0      1.0        3    LOS_3-4          0   \n",
       "\n",
       "   feeding_new  first_day_symptoms  second_day_symptoms  third_day_symptoms  \\\n",
       "0           EN                   0                    0                   2   \n",
       "1           EN                   0                    1                   0   \n",
       "2           EN                   0                    0                   0   \n",
       "\n",
       "   summed_symptoms  \n",
       "0                2  \n",
       "1                1  \n",
       "2                0  \n",
       "\n",
       "[3 rows x 52 columns]"
      ]
     },
     "execution_count": 343,
     "metadata": {},
     "output_type": "execute_result"
    }
   ],
   "source": [
    "three_days_data.head(3)"
   ]
  },
  {
   "cell_type": "code",
   "execution_count": 362,
   "metadata": {},
   "outputs": [],
   "source": [
    "y = three_days_data['mortality'] # Labels"
   ]
  },
  {
   "cell_type": "code",
   "execution_count": 363,
   "metadata": {},
   "outputs": [
    {
     "data": {
      "text/plain": [
       "0"
      ]
     },
     "execution_count": 363,
     "metadata": {},
     "output_type": "execute_result"
    }
   ],
   "source": [
    "feature_names = ['age', 'BMI_cat', 'SCORE2_0','active_problem_cat','GRV_250_Day_0','GRV_250_Day_1','GRV_250_Day_2',\n",
    "                 'LT_70%ENcal_day0','LT_70%ENcal_day1','LT_70%ENcal_day2', 'first_day_symptoms',\n",
    "                 'second_day_symptoms', 'third_day_symptoms', 'summed_symptoms']\n",
    "X = three_days_data[feature_names] # Features\n",
    "\n",
    "# Mapping each category to a vector that contains 1 and 0, denoting the presence or absence of the feature. \n",
    "X = pd.get_dummies(X, columns=['BMI_cat','active_problem_cat']) \n",
    "\n",
    "# Dealing with NaN values\n",
    "X = X.fillna(0)\n",
    "X.isnull().sum().sum()"
   ]
  },
  {
   "cell_type": "code",
   "execution_count": 364,
   "metadata": {},
   "outputs": [
    {
     "data": {
      "text/plain": [
       "((319, 20), (80, 20))"
      ]
     },
     "execution_count": 364,
     "metadata": {},
     "output_type": "execute_result"
    }
   ],
   "source": [
    "X_train, X_test, y_train, y_test = train_test_split(X, y, test_size=0.20) # 80% training and 20% test\n",
    "X_train.shape, X_test.shape"
   ]
  },
  {
   "cell_type": "markdown",
   "metadata": {},
   "source": [
    "## Random Forest Classifier\n",
    "Random forest is a Supervised Machine Learning Algorithm that is used widely in Classification and Regression problems. It builds decision trees on different samples and takes their majority vote for classification and average in case of regression.\n"
   ]
  },
  {
   "cell_type": "code",
   "execution_count": 365,
   "metadata": {},
   "outputs": [],
   "source": [
    "#Import Random Forest Model\n",
    "from sklearn.ensemble import RandomForestClassifier\n",
    "\n",
    "# Creating a Gaussian Classifier \n",
    "# n_estimators- number of trees to be used in the forest.\n",
    "clf=RandomForestClassifier(n_estimators=100)\n",
    "\n",
    "#Training the model using the training sets\n",
    "clf.fit(X_train,y_train)\n",
    "\n",
    "y_pred=clf.predict(X_test)"
   ]
  },
  {
   "cell_type": "code",
   "execution_count": 366,
   "metadata": {},
   "outputs": [
    {
     "name": "stdout",
     "output_type": "stream",
     "text": [
      "Accuracy: 0.7625\n"
     ]
    }
   ],
   "source": [
    "#Import scikit-learn metrics module for accuracy calculation\n",
    "from sklearn import metrics\n",
    "# Model Accuracy, how often is the classifier correct?\n",
    "print(\"Accuracy:\",metrics.accuracy_score(y_test, y_pred))"
   ]
  },
  {
   "cell_type": "code",
   "execution_count": 367,
   "metadata": {},
   "outputs": [
    {
     "data": {
      "text/plain": [
       "age                      0.245953\n",
       "SCORE2_0                 0.162221\n",
       "GRV_250_Day_2            0.060575\n",
       "GRV_250_Day_1            0.050704\n",
       "GRV_250_Day_0            0.044787\n",
       "LT_70%ENcal_day2         0.040588\n",
       "active_problem_cat_TN    0.040147\n",
       "LT_70%ENcal_day1         0.037570\n",
       "BMI_cat_18.5-24.9        0.035613\n",
       "BMI_cat_25-29.9          0.035601\n",
       "summed_symptoms          0.034849\n",
       "active_problem_cat_S     0.031453\n",
       "active_problem_cat_M     0.027738\n",
       "active_problem_cat_TA    0.027443\n",
       "LT_70%ENcal_day0         0.027285\n",
       "BMI_cat_30+              0.026420\n",
       "first_day_symptoms       0.020947\n",
       "BMI_cat_Below 18.5       0.017421\n",
       "third_day_symptoms       0.017312\n",
       "second_day_symptoms      0.015371\n",
       "dtype: float64"
      ]
     },
     "execution_count": 367,
     "metadata": {},
     "output_type": "execute_result"
    }
   ],
   "source": [
    "# By looking at the model feature importance we might get insight into real life contributing factors in a paitents healthplan\n",
    "# And take adventage of the model analasys by giving more priorty to those features in desiging the sutable care plan. \n",
    "feature_importance = pd.Series(clf.feature_importances_,index=X.columns).sort_values(ascending=False)\n",
    "feature_importance"
   ]
  },
  {
   "cell_type": "markdown",
   "metadata": {},
   "source": [
    "### Generating the Model on Selected Features\n",
    "By removing the least contributing features we might improve the model"
   ]
  },
  {
   "cell_type": "code",
   "execution_count": 368,
   "metadata": {},
   "outputs": [
    {
     "data": {
      "text/plain": [
       "Index(['BMI_cat_Below 18.5', 'third_day_symptoms', 'second_day_symptoms'], dtype='object')"
      ]
     },
     "execution_count": 368,
     "metadata": {},
     "output_type": "execute_result"
    }
   ],
   "source": [
    "# The three least contributing factors to the model\n",
    "least_important_features = feature_importance.tail(3).index\n",
    "least_important_features"
   ]
  },
  {
   "cell_type": "code",
   "execution_count": 369,
   "metadata": {},
   "outputs": [],
   "source": [
    "#removing the least contributing features\n",
    "X_Selected = X.copy();\n",
    "X_Selected.drop(least_important_features, axis=1, inplace=True)"
   ]
  },
  {
   "cell_type": "code",
   "execution_count": 370,
   "metadata": {},
   "outputs": [
    {
     "data": {
      "text/plain": [
       "((319, 17), (80, 17))"
      ]
     },
     "execution_count": 370,
     "metadata": {},
     "output_type": "execute_result"
    }
   ],
   "source": [
    "# Split dataset into training set and test set\n",
    "X_train, X_test, y_train, y_test = train_test_split(X_Selected, y, test_size=0.20, random_state=5) # 80% training and 20% test\n",
    "X_train.shape, X_test.shape"
   ]
  },
  {
   "cell_type": "code",
   "execution_count": 371,
   "metadata": {},
   "outputs": [
    {
     "name": "stdout",
     "output_type": "stream",
     "text": [
      "Accuracy: 0.8\n"
     ]
    }
   ],
   "source": [
    "#Create a Gaussian Classifier\n",
    "clf=RandomForestClassifier(n_estimators=100)\n",
    "\n",
    "#Train the model using the training sets y_pred=clf.predict(X_test)\n",
    "clf.fit(X_train,y_train)\n",
    "\n",
    "# prediction on test set\n",
    "y_pred=clf.predict(X_test)\n",
    "\n",
    "#Import scikit-learn metrics module for accuracy calculation\n",
    "from sklearn import metrics\n",
    "# Model Accuracy, how often is the classifier correct?\n",
    "print(\"Accuracy:\",metrics.accuracy_score(y_test, y_pred))"
   ]
  },
  {
   "cell_type": "markdown",
   "metadata": {},
   "source": [
    "As can be seen after removing the three least important features the accuracy increased.\n",
    "\n",
    "This is because we removed misleading data and noise, resulting in an increased accuracy.\n",
    "\n",
    "A lesser amount of features also reduces the training time."
   ]
  },
  {
   "cell_type": "markdown",
   "metadata": {},
   "source": [
    "## XGBoost - Extreme Gradient Boosting"
   ]
  },
  {
   "cell_type": "code",
   "execution_count": 372,
   "metadata": {},
   "outputs": [],
   "source": [
    "import xgboost as xgb\n",
    "#from xgboost import XGBClassifier"
   ]
  },
  {
   "cell_type": "code",
   "execution_count": 397,
   "metadata": {},
   "outputs": [
    {
     "data": {
      "text/plain": [
       "((319, 20), (80, 20))"
      ]
     },
     "execution_count": 397,
     "metadata": {},
     "output_type": "execute_result"
    }
   ],
   "source": [
    "X_train, X_test, y_train, y_test = train_test_split(X, y, test_size=0.20, random_state=5) # 80% training and 20% test\n",
    "X_train.shape, X_test.shape"
   ]
  },
  {
   "cell_type": "code",
   "execution_count": 394,
   "metadata": {},
   "outputs": [
    {
     "data": {
      "text/plain": [
       "XGBClassifier(base_score=0.5, booster='gbtree', colsample_bylevel=1,\n",
       "              colsample_bynode=1, colsample_bytree=1, gamma=0, gpu_id=-1,\n",
       "              importance_type='gain', interaction_constraints='',\n",
       "              learning_rate=0.300000012, max_delta_step=0, max_depth=6,\n",
       "              min_child_weight=1, missing=nan, monotone_constraints='()',\n",
       "              n_estimators=100, n_jobs=0, num_parallel_tree=1,\n",
       "              objective='binary:logistic', random_state=0, reg_alpha=0,\n",
       "              reg_lambda=1, scale_pos_weight=1, subsample=1,\n",
       "              tree_method='exact', validate_parameters=1, verbosity=None)"
      ]
     },
     "execution_count": 394,
     "metadata": {},
     "output_type": "execute_result"
    }
   ],
   "source": [
    "# fit model no training data\n",
    "model = xgb.XGBClassifier()\n",
    "model.fit(X_train, y_train)"
   ]
  },
  {
   "cell_type": "code",
   "execution_count": 395,
   "metadata": {},
   "outputs": [],
   "source": [
    "# make predictions for test data\n",
    "y_pred = model.predict(X_test)\n",
    "predictions = [round(value) for value in y_pred]"
   ]
  },
  {
   "cell_type": "markdown",
   "metadata": {},
   "source": [
    "By default, the predictions made by XGBoost are probabilities. \n",
    "\n",
    "Because this is a binary classification problem, each prediction is the probability of the input pattern belonging to the first class.\n",
    "\n",
    "We can easily convert them to binary class values by rounding them to 0 or 1."
   ]
  },
  {
   "cell_type": "code",
   "execution_count": 396,
   "metadata": {},
   "outputs": [
    {
     "name": "stdout",
     "output_type": "stream",
     "text": [
      "Accuracy: 72.50%\n"
     ]
    }
   ],
   "source": [
    "# evaluate predictions\n",
    "accuracy = metrics.accuracy_score(y_test, predictions)\n",
    "print(\"Accuracy: %.2f%%\" % (accuracy * 100.0))"
   ]
  },
  {
   "cell_type": "markdown",
   "metadata": {},
   "source": [
    "###  Grid Search Cross-Validation\n",
    "GridSearchCV tries all the combinations of the values passed in the parameters and evaluates the model for each combination using the Cross-Validation method.\n",
    "\n",
    "It helps choose the best hyperparameters that fit our estimator (model) on your training set most accurately \n",
    "\n",
    "We choose the best hyperparameters using the ROC AUC metric to compare the results of 10-fold cross-validation.\n",
    "\n",
    "AUC - ROC curve is a performance measurement for the classification problems at various threshold settings. ROC is a probability curve and AUC represents the degree or measure of separability. It tells how much the model is capable of distinguishing between classes.\n",
    "\n",
    "Higher the AUC, the better the model is at predicting 0 classes as 0 and 1 classes as 1. By analogy, the Higher the AUC, the better the model is at distinguishing between patients with the disease and no disease."
   ]
  },
  {
   "cell_type": "code",
   "execution_count": 444,
   "metadata": {},
   "outputs": [],
   "source": [
    "from sklearn.model_selection import GridSearchCV"
   ]
  },
  {
   "cell_type": "code",
   "execution_count": 445,
   "metadata": {},
   "outputs": [],
   "source": [
    "estimator = xgb.XGBClassifier(\n",
    "    objective= 'binary:logistic',\n",
    "    nthread=4,\n",
    "    seed=42\n",
    ")"
   ]
  },
  {
   "cell_type": "code",
   "execution_count": 446,
   "metadata": {},
   "outputs": [],
   "source": [
    "parameters = {\n",
    "    'max_depth': range (2, 10, 1),\n",
    "    'n_estimators': range(60, 220, 40),\n",
    "    'learning_rate': [0.1, 0.01, 0.05]\n",
    "}"
   ]
  },
  {
   "cell_type": "code",
   "execution_count": 447,
   "metadata": {},
   "outputs": [],
   "source": [
    "grid_search = GridSearchCV(\n",
    "    estimator=estimator,\n",
    "    param_grid=parameters,\n",
    "    scoring = 'roc_auc',\n",
    "    n_jobs = 10,\n",
    "    cv = 10,\n",
    "    verbose=True\n",
    ")"
   ]
  },
  {
   "cell_type": "code",
   "execution_count": 448,
   "metadata": {},
   "outputs": [
    {
     "name": "stdout",
     "output_type": "stream",
     "text": [
      "Fitting 10 folds for each of 96 candidates, totalling 960 fits\n"
     ]
    },
    {
     "name": "stderr",
     "output_type": "stream",
     "text": [
      "[Parallel(n_jobs=10)]: Using backend LokyBackend with 10 concurrent workers.\n",
      "[Parallel(n_jobs=10)]: Done  60 tasks      | elapsed:    0.9s\n",
      "[Parallel(n_jobs=10)]: Done 380 tasks      | elapsed:    9.8s\n",
      "[Parallel(n_jobs=10)]: Done 630 tasks      | elapsed:   18.0s\n",
      "[Parallel(n_jobs=10)]: Done 960 out of 960 | elapsed:   29.3s finished\n",
      "C:\\Anaconda3\\lib\\site-packages\\sklearn\\model_selection\\_search.py:814: DeprecationWarning: The default of the `iid` parameter will change from True to False in version 0.22 and will be removed in 0.24. This will change numeric results when test-set sizes are unequal.\n",
      "  DeprecationWarning)\n"
     ]
    },
    {
     "data": {
      "text/plain": [
       "GridSearchCV(cv=10, error_score='raise-deprecating',\n",
       "             estimator=XGBClassifier(base_score=None, booster=None,\n",
       "                                     colsample_bylevel=None,\n",
       "                                     colsample_bynode=None,\n",
       "                                     colsample_bytree=None, gamma=None,\n",
       "                                     gpu_id=None, importance_type='gain',\n",
       "                                     interaction_constraints=None,\n",
       "                                     learning_rate=None, max_delta_step=None,\n",
       "                                     max_depth=None, min_child_weight=None,\n",
       "                                     missing=nan, monotone_constra...\n",
       "                                     random_state=None, reg_alpha=None,\n",
       "                                     reg_lambda=None, scale_pos_weight=None,\n",
       "                                     seed=42, subsample=None, tree_method=None,\n",
       "                                     validate_parameters=None, verbosity=None),\n",
       "             iid='warn', n_jobs=10,\n",
       "             param_grid={'learning_rate': [0.1, 0.01, 0.05],\n",
       "                         'max_depth': range(2, 10),\n",
       "                         'n_estimators': range(60, 220, 40)},\n",
       "             pre_dispatch='2*n_jobs', refit=True, return_train_score=False,\n",
       "             scoring='roc_auc', verbose=True)"
      ]
     },
     "execution_count": 448,
     "metadata": {},
     "output_type": "execute_result"
    }
   ],
   "source": [
    "grid_search.fit(X_train, y_train)"
   ]
  },
  {
   "cell_type": "code",
   "execution_count": 449,
   "metadata": {},
   "outputs": [
    {
     "data": {
      "text/plain": [
       "XGBClassifier(base_score=0.5, booster='gbtree', colsample_bylevel=1,\n",
       "              colsample_bynode=1, colsample_bytree=1, gamma=0, gpu_id=-1,\n",
       "              importance_type='gain', interaction_constraints='',\n",
       "              learning_rate=0.01, max_delta_step=0, max_depth=8,\n",
       "              min_child_weight=1, missing=nan, monotone_constraints='()',\n",
       "              n_estimators=60, n_jobs=4, nthread=4, num_parallel_tree=1,\n",
       "              objective='binary:logistic', random_state=42, reg_alpha=0,\n",
       "              reg_lambda=1, scale_pos_weight=1, seed=42, subsample=1,\n",
       "              tree_method='exact', validate_parameters=1, verbosity=None)"
      ]
     },
     "execution_count": 449,
     "metadata": {},
     "output_type": "execute_result"
    }
   ],
   "source": [
    "# The best_estimator_ field contains the best model trained by GridSearch.\n",
    "grid_search.best_estimator_"
   ]
  },
  {
   "cell_type": "markdown",
   "metadata": {},
   "source": [
    "#### Evaluation"
   ]
  },
  {
   "cell_type": "code",
   "execution_count": 450,
   "metadata": {},
   "outputs": [
    {
     "name": "stdout",
     "output_type": "stream",
     "text": [
      "Accuracy: 76.25%\n"
     ]
    }
   ],
   "source": [
    "y_pred = grid_search.best_estimator_.predict(X_test)\n",
    "predictions = [round(value) for value in y_pred]\n",
    "\n",
    "# evaluate predictions\n",
    "accuracy = metrics.accuracy_score(y_test, predictions)\n",
    "print(\"Accuracy: %.2f%%\" % (accuracy * 100.0))"
   ]
  },
  {
   "cell_type": "code",
   "execution_count": 451,
   "metadata": {},
   "outputs": [
    {
     "data": {
      "image/png": "[encoded data removed]",
      "text/plain": [
       "<Figure size 432x288 with 1 Axes>"
      ]
     },
     "metadata": {
      "needs_background": "light"
     },
     "output_type": "display_data"
    },
    {
     "data": {
      "text/plain": [
       "<Figure size 1152x864 with 0 Axes>"
      ]
     },
     "metadata": {},
     "output_type": "display_data"
    }
   ],
   "source": [
    "xgb.plot_importance(grid_search.best_estimator_)\n",
    "plt.figure(figsize = (16, 12))\n",
    "plt.show()"
   ]
  },
  {
   "cell_type": "code",
   "execution_count": null,
   "metadata": {},
   "outputs": [],
   "source": []
  }
 ],
 "metadata": {
  "kernelspec": {
   "display_name": "Python 3",
   "language": "python",
   "name": "python3"
  },
  "language_info": {
   "codemirror_mode": {
    "name": "ipython",
    "version": 3
   },
   "file_extension": ".py",
   "mimetype": "text/x-python",
   "name": "python",
   "nbconvert_exporter": "python",
   "pygments_lexer": "ipython3",
   "version": "3.7.4"
  },
  "toc": {
   "base_numbering": 1,
   "nav_menu": {},
   "number_sections": true,
   "sideBar": true,
   "skip_h1_title": false,
   "title_cell": "Table of Contents",
   "title_sidebar": "Contents",
   "toc_cell": true,
   "toc_position": {
    "height": "calc(100% - 180px)",
    "left": "10px",
    "top": "150px",
    "width": "335.73px"
   },
   "toc_section_display": true,
   "toc_window_display": true
  }
 },
 "nbformat": 4,
 "nbformat_minor": 2
}
